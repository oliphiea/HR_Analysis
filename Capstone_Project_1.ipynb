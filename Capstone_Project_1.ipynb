{
 "cells": [
  {
   "cell_type": "code",
   "execution_count": 1,
   "metadata": {},
   "outputs": [],
   "source": [
    "#Import Dependencies\n",
    "import pandas as pd\n",
    "import numpy as np"
   ]
  },
  {
   "cell_type": "code",
   "execution_count": 2,
   "metadata": {},
   "outputs": [
    {
     "data": {
      "text/html": [
       "<div>\n",
       "<style scoped>\n",
       "    .dataframe tbody tr th:only-of-type {\n",
       "        vertical-align: middle;\n",
       "    }\n",
       "\n",
       "    .dataframe tbody tr th {\n",
       "        vertical-align: top;\n",
       "    }\n",
       "\n",
       "    .dataframe thead th {\n",
       "        text-align: right;\n",
       "    }\n",
       "</style>\n",
       "<table border=\"1\" class=\"dataframe\">\n",
       "  <thead>\n",
       "    <tr style=\"text-align: right;\">\n",
       "      <th></th>\n",
       "      <th>Age</th>\n",
       "      <th>Gender</th>\n",
       "      <th>Education Level</th>\n",
       "      <th>Job Title</th>\n",
       "      <th>Years of Experience</th>\n",
       "      <th>Salary</th>\n",
       "    </tr>\n",
       "  </thead>\n",
       "  <tbody>\n",
       "    <tr>\n",
       "      <th>0</th>\n",
       "      <td>32.0</td>\n",
       "      <td>Male</td>\n",
       "      <td>Bachelor's</td>\n",
       "      <td>Software Engineer</td>\n",
       "      <td>5.0</td>\n",
       "      <td>90000.0</td>\n",
       "    </tr>\n",
       "    <tr>\n",
       "      <th>1</th>\n",
       "      <td>28.0</td>\n",
       "      <td>Female</td>\n",
       "      <td>Master's</td>\n",
       "      <td>Data Analyst</td>\n",
       "      <td>3.0</td>\n",
       "      <td>65000.0</td>\n",
       "    </tr>\n",
       "    <tr>\n",
       "      <th>2</th>\n",
       "      <td>45.0</td>\n",
       "      <td>Male</td>\n",
       "      <td>PhD</td>\n",
       "      <td>Senior Manager</td>\n",
       "      <td>15.0</td>\n",
       "      <td>150000.0</td>\n",
       "    </tr>\n",
       "    <tr>\n",
       "      <th>3</th>\n",
       "      <td>36.0</td>\n",
       "      <td>Female</td>\n",
       "      <td>Bachelor's</td>\n",
       "      <td>Sales Associate</td>\n",
       "      <td>7.0</td>\n",
       "      <td>60000.0</td>\n",
       "    </tr>\n",
       "    <tr>\n",
       "      <th>4</th>\n",
       "      <td>52.0</td>\n",
       "      <td>Male</td>\n",
       "      <td>Master's</td>\n",
       "      <td>Director</td>\n",
       "      <td>20.0</td>\n",
       "      <td>200000.0</td>\n",
       "    </tr>\n",
       "  </tbody>\n",
       "</table>\n",
       "</div>"
      ],
      "text/plain": [
       "    Age  Gender Education Level          Job Title  Years of Experience  \\\n",
       "0  32.0    Male      Bachelor's  Software Engineer                  5.0   \n",
       "1  28.0  Female        Master's       Data Analyst                  3.0   \n",
       "2  45.0    Male             PhD     Senior Manager                 15.0   \n",
       "3  36.0  Female      Bachelor's    Sales Associate                  7.0   \n",
       "4  52.0    Male        Master's           Director                 20.0   \n",
       "\n",
       "     Salary  \n",
       "0   90000.0  \n",
       "1   65000.0  \n",
       "2  150000.0  \n",
       "3   60000.0  \n",
       "4  200000.0  "
      ]
     },
     "execution_count": 2,
     "metadata": {},
     "output_type": "execute_result"
    }
   ],
   "source": [
    "#read the data\n",
    "df=pd.read_csv(r\"E:\\Salary_Data.csv\")\n",
    "df.head()"
   ]
  },
  {
   "cell_type": "code",
   "execution_count": 3,
   "metadata": {},
   "outputs": [
    {
     "data": {
      "text/plain": [
       "(6704, 6)"
      ]
     },
     "execution_count": 3,
     "metadata": {},
     "output_type": "execute_result"
    }
   ],
   "source": [
    "df.shape"
   ]
  },
  {
   "cell_type": "code",
   "execution_count": 4,
   "metadata": {},
   "outputs": [
    {
     "name": "stdout",
     "output_type": "stream",
     "text": [
      "<class 'pandas.core.frame.DataFrame'>\n",
      "RangeIndex: 6704 entries, 0 to 6703\n",
      "Data columns (total 6 columns):\n",
      " #   Column               Non-Null Count  Dtype  \n",
      "---  ------               --------------  -----  \n",
      " 0   Age                  6702 non-null   float64\n",
      " 1   Gender               6702 non-null   object \n",
      " 2   Education Level      6701 non-null   object \n",
      " 3   Job Title            6702 non-null   object \n",
      " 4   Years of Experience  6701 non-null   float64\n",
      " 5   Salary               6699 non-null   float64\n",
      "dtypes: float64(3), object(3)\n",
      "memory usage: 314.4+ KB\n"
     ]
    }
   ],
   "source": [
    "df.info()"
   ]
  },
  {
   "cell_type": "code",
   "execution_count": 5,
   "metadata": {},
   "outputs": [
    {
     "data": {
      "text/html": [
       "<div>\n",
       "<style scoped>\n",
       "    .dataframe tbody tr th:only-of-type {\n",
       "        vertical-align: middle;\n",
       "    }\n",
       "\n",
       "    .dataframe tbody tr th {\n",
       "        vertical-align: top;\n",
       "    }\n",
       "\n",
       "    .dataframe thead th {\n",
       "        text-align: right;\n",
       "    }\n",
       "</style>\n",
       "<table border=\"1\" class=\"dataframe\">\n",
       "  <thead>\n",
       "    <tr style=\"text-align: right;\">\n",
       "      <th></th>\n",
       "      <th>Age</th>\n",
       "      <th>Years of Experience</th>\n",
       "      <th>Salary</th>\n",
       "    </tr>\n",
       "  </thead>\n",
       "  <tbody>\n",
       "    <tr>\n",
       "      <th>count</th>\n",
       "      <td>6702.000000</td>\n",
       "      <td>6701.000000</td>\n",
       "      <td>6699.000000</td>\n",
       "    </tr>\n",
       "    <tr>\n",
       "      <th>mean</th>\n",
       "      <td>33.620859</td>\n",
       "      <td>8.094687</td>\n",
       "      <td>115326.964771</td>\n",
       "    </tr>\n",
       "    <tr>\n",
       "      <th>std</th>\n",
       "      <td>7.614633</td>\n",
       "      <td>6.059003</td>\n",
       "      <td>52786.183911</td>\n",
       "    </tr>\n",
       "    <tr>\n",
       "      <th>min</th>\n",
       "      <td>21.000000</td>\n",
       "      <td>0.000000</td>\n",
       "      <td>350.000000</td>\n",
       "    </tr>\n",
       "    <tr>\n",
       "      <th>25%</th>\n",
       "      <td>28.000000</td>\n",
       "      <td>3.000000</td>\n",
       "      <td>70000.000000</td>\n",
       "    </tr>\n",
       "    <tr>\n",
       "      <th>50%</th>\n",
       "      <td>32.000000</td>\n",
       "      <td>7.000000</td>\n",
       "      <td>115000.000000</td>\n",
       "    </tr>\n",
       "    <tr>\n",
       "      <th>75%</th>\n",
       "      <td>38.000000</td>\n",
       "      <td>12.000000</td>\n",
       "      <td>160000.000000</td>\n",
       "    </tr>\n",
       "    <tr>\n",
       "      <th>max</th>\n",
       "      <td>62.000000</td>\n",
       "      <td>34.000000</td>\n",
       "      <td>250000.000000</td>\n",
       "    </tr>\n",
       "  </tbody>\n",
       "</table>\n",
       "</div>"
      ],
      "text/plain": [
       "               Age  Years of Experience         Salary\n",
       "count  6702.000000          6701.000000    6699.000000\n",
       "mean     33.620859             8.094687  115326.964771\n",
       "std       7.614633             6.059003   52786.183911\n",
       "min      21.000000             0.000000     350.000000\n",
       "25%      28.000000             3.000000   70000.000000\n",
       "50%      32.000000             7.000000  115000.000000\n",
       "75%      38.000000            12.000000  160000.000000\n",
       "max      62.000000            34.000000  250000.000000"
      ]
     },
     "execution_count": 5,
     "metadata": {},
     "output_type": "execute_result"
    }
   ],
   "source": [
    "df.describe()"
   ]
  },
  {
   "cell_type": "code",
   "execution_count": 6,
   "metadata": {},
   "outputs": [
    {
     "data": {
      "text/plain": [
       "Bachelor's Degree    2267\n",
       "Master's Degree      1573\n",
       "PhD                  1368\n",
       "Bachelor's            756\n",
       "High School           448\n",
       "Master's              288\n",
       "phD                     1\n",
       "Name: Education Level, dtype: int64"
      ]
     },
     "execution_count": 6,
     "metadata": {},
     "output_type": "execute_result"
    }
   ],
   "source": [
    "df['Education Level'].value_counts()"
   ]
  },
  {
   "cell_type": "code",
   "execution_count": 7,
   "metadata": {},
   "outputs": [],
   "source": [
    "df.replace(\"Bachelor's\" , \"Bachelor's Degree\", inplace=True)\n",
    "df.replace(\"Master's\", \"Master's Degree\",inplace=True)\n",
    "df.replace('phD','PhD',inplace=True)"
   ]
  },
  {
   "cell_type": "code",
   "execution_count": 8,
   "metadata": {},
   "outputs": [
    {
     "data": {
      "text/plain": [
       "Bachelor's Degree    3023\n",
       "Master's Degree      1861\n",
       "PhD                  1369\n",
       "High School           448\n",
       "Name: Education Level, dtype: int64"
      ]
     },
     "execution_count": 8,
     "metadata": {},
     "output_type": "execute_result"
    }
   ],
   "source": [
    "df['Education Level'].value_counts()"
   ]
  },
  {
   "cell_type": "code",
   "execution_count": 9,
   "metadata": {},
   "outputs": [
    {
     "data": {
      "text/plain": [
       "4913"
      ]
     },
     "execution_count": 9,
     "metadata": {},
     "output_type": "execute_result"
    }
   ],
   "source": [
    "df.duplicated().sum()"
   ]
  },
  {
   "cell_type": "code",
   "execution_count": 10,
   "metadata": {},
   "outputs": [],
   "source": [
    "df.drop_duplicates(inplace=True)"
   ]
  },
  {
   "cell_type": "code",
   "execution_count": 11,
   "metadata": {},
   "outputs": [
    {
     "data": {
      "text/plain": [
       "(1791, 6)"
      ]
     },
     "execution_count": 11,
     "metadata": {},
     "output_type": "execute_result"
    }
   ],
   "source": [
    "df.shape"
   ]
  },
  {
   "cell_type": "code",
   "execution_count": 12,
   "metadata": {},
   "outputs": [
    {
     "data": {
      "text/plain": [
       "Age                    1\n",
       "Gender                 1\n",
       "Education Level        2\n",
       "Job Title              1\n",
       "Years of Experience    2\n",
       "Salary                 4\n",
       "dtype: int64"
      ]
     },
     "execution_count": 12,
     "metadata": {},
     "output_type": "execute_result"
    }
   ],
   "source": [
    "df.isnull().sum()"
   ]
  },
  {
   "cell_type": "code",
   "execution_count": 13,
   "metadata": {},
   "outputs": [],
   "source": [
    "df=df.dropna(axis=0, how='any')"
   ]
  },
  {
   "cell_type": "code",
   "execution_count": 14,
   "metadata": {},
   "outputs": [
    {
     "data": {
      "text/plain": [
       "(1786, 6)"
      ]
     },
     "execution_count": 14,
     "metadata": {},
     "output_type": "execute_result"
    }
   ],
   "source": [
    "df.shape"
   ]
  },
  {
   "cell_type": "markdown",
   "metadata": {},
   "source": [
    "## Check Assumptions\n",
    "\n",
    "Linear Regression is a Parametric algorithm which means before using Linear Regression we have to check few assumpttions if those assumtions are true then only we can use Linear Regression, other wise use other algorithms."
   ]
  },
  {
   "cell_type": "code",
   "execution_count": 15,
   "metadata": {},
   "outputs": [
    {
     "data": {
      "image/png": "[encoded data removed]",
      "text/plain": [
       "<Figure size 432x288 with 1 Axes>"
      ]
     },
     "metadata": {
      "needs_background": "light"
     },
     "output_type": "display_data"
    }
   ],
   "source": [
    "#Assumption 1 : There should be no outliers in the data \n",
    "df.boxplot();"
   ]
  },
  {
   "cell_type": "markdown",
   "metadata": {},
   "source": [
    "**Observation:** Box plot is only applicable if the data in column is continuous. By above graph we can see there are outliers 2 column but we will not eliminate this variable because age and years of experience can have outliers."
   ]
  },
  {
   "cell_type": "code",
   "execution_count": 16,
   "metadata": {},
   "outputs": [],
   "source": [
    "df['Gender'].replace(['Female','Male','Other'],[0,1,2],inplace=True)\n",
    "df['Education Level']=df['Education Level'].map({\"Bachelor's Degree\":0, 'High School':1, \"Master's Degree\":2, 'PhD':3})"
   ]
  },
  {
   "cell_type": "code",
   "execution_count": 17,
   "metadata": {},
   "outputs": [
    {
     "name": "stdout",
     "output_type": "stream",
     "text": [
      "<class 'pandas.core.frame.DataFrame'>\n",
      "Int64Index: 1786 entries, 0 to 6631\n",
      "Data columns (total 6 columns):\n",
      " #   Column               Non-Null Count  Dtype  \n",
      "---  ------               --------------  -----  \n",
      " 0   Age                  1786 non-null   float64\n",
      " 1   Gender               1786 non-null   int64  \n",
      " 2   Education Level      1786 non-null   int64  \n",
      " 3   Job Title            1786 non-null   object \n",
      " 4   Years of Experience  1786 non-null   float64\n",
      " 5   Salary               1786 non-null   float64\n",
      "dtypes: float64(3), int64(2), object(1)\n",
      "memory usage: 97.7+ KB\n"
     ]
    }
   ],
   "source": [
    "df.info()"
   ]
  },
  {
   "cell_type": "code",
   "execution_count": 18,
   "metadata": {},
   "outputs": [
    {
     "data": {
      "text/html": [
       "<div>\n",
       "<style scoped>\n",
       "    .dataframe tbody tr th:only-of-type {\n",
       "        vertical-align: middle;\n",
       "    }\n",
       "\n",
       "    .dataframe tbody tr th {\n",
       "        vertical-align: top;\n",
       "    }\n",
       "\n",
       "    .dataframe thead th {\n",
       "        text-align: right;\n",
       "    }\n",
       "</style>\n",
       "<table border=\"1\" class=\"dataframe\">\n",
       "  <thead>\n",
       "    <tr style=\"text-align: right;\">\n",
       "      <th></th>\n",
       "      <th>Age</th>\n",
       "      <th>Gender</th>\n",
       "      <th>Education Level</th>\n",
       "      <th>Job Title</th>\n",
       "      <th>Years of Experience</th>\n",
       "      <th>Salary</th>\n",
       "    </tr>\n",
       "  </thead>\n",
       "  <tbody>\n",
       "    <tr>\n",
       "      <th>0</th>\n",
       "      <td>32.0</td>\n",
       "      <td>1</td>\n",
       "      <td>0</td>\n",
       "      <td>175</td>\n",
       "      <td>5.0</td>\n",
       "      <td>90000.0</td>\n",
       "    </tr>\n",
       "    <tr>\n",
       "      <th>1</th>\n",
       "      <td>28.0</td>\n",
       "      <td>0</td>\n",
       "      <td>2</td>\n",
       "      <td>18</td>\n",
       "      <td>3.0</td>\n",
       "      <td>65000.0</td>\n",
       "    </tr>\n",
       "    <tr>\n",
       "      <th>2</th>\n",
       "      <td>45.0</td>\n",
       "      <td>1</td>\n",
       "      <td>3</td>\n",
       "      <td>144</td>\n",
       "      <td>15.0</td>\n",
       "      <td>150000.0</td>\n",
       "    </tr>\n",
       "    <tr>\n",
       "      <th>3</th>\n",
       "      <td>36.0</td>\n",
       "      <td>0</td>\n",
       "      <td>0</td>\n",
       "      <td>115</td>\n",
       "      <td>7.0</td>\n",
       "      <td>60000.0</td>\n",
       "    </tr>\n",
       "    <tr>\n",
       "      <th>4</th>\n",
       "      <td>52.0</td>\n",
       "      <td>1</td>\n",
       "      <td>2</td>\n",
       "      <td>25</td>\n",
       "      <td>20.0</td>\n",
       "      <td>200000.0</td>\n",
       "    </tr>\n",
       "  </tbody>\n",
       "</table>\n",
       "</div>"
      ],
      "text/plain": [
       "    Age  Gender  Education Level  Job Title  Years of Experience    Salary\n",
       "0  32.0       1                0        175                  5.0   90000.0\n",
       "1  28.0       0                2         18                  3.0   65000.0\n",
       "2  45.0       1                3        144                 15.0  150000.0\n",
       "3  36.0       0                0        115                  7.0   60000.0\n",
       "4  52.0       1                2         25                 20.0  200000.0"
      ]
     },
     "execution_count": 18,
     "metadata": {},
     "output_type": "execute_result"
    }
   ],
   "source": [
    "#categorical to numerical \n",
    "from sklearn.preprocessing import LabelEncoder\n",
    "le=LabelEncoder()\n",
    "df['Job Title']=le.fit_transform(df['Job Title'])\n",
    "df.head()"
   ]
  },
  {
   "cell_type": "code",
   "execution_count": 19,
   "metadata": {},
   "outputs": [
    {
     "name": "stdout",
     "output_type": "stream",
     "text": [
      "<class 'pandas.core.frame.DataFrame'>\n",
      "Int64Index: 1786 entries, 0 to 6631\n",
      "Data columns (total 6 columns):\n",
      " #   Column               Non-Null Count  Dtype  \n",
      "---  ------               --------------  -----  \n",
      " 0   Age                  1786 non-null   float64\n",
      " 1   Gender               1786 non-null   int64  \n",
      " 2   Education Level      1786 non-null   int64  \n",
      " 3   Job Title            1786 non-null   int32  \n",
      " 4   Years of Experience  1786 non-null   float64\n",
      " 5   Salary               1786 non-null   float64\n",
      "dtypes: float64(3), int32(1), int64(2)\n",
      "memory usage: 90.7 KB\n"
     ]
    }
   ],
   "source": [
    "df.info()"
   ]
  },
  {
   "cell_type": "code",
   "execution_count": 20,
   "metadata": {},
   "outputs": [
    {
     "data": {
      "text/plain": [
       "<seaborn.axisgrid.PairGrid at 0x2154c3d86c8>"
      ]
     },
     "execution_count": 20,
     "metadata": {},
     "output_type": "execute_result"
    },
    {
     "data": {
      "image/png": "[encoded data removed]",
      "text/plain": [
       "<Figure size 1250x250 with 5 Axes>"
      ]
     },
     "metadata": {},
     "output_type": "display_data"
    }
   ],
   "source": [
    "#Assumption 2: Assumption of Linearity:Every independent variable should have a linear relationship with the dependent variable\n",
    "import seaborn as sns\n",
    "sns.pairplot(df,x_vars=['Age', 'Gender', 'Education Level', 'Job Title', 'Years of Experience'],\n",
    "            y_vars=['Salary'],kind='reg')#kind='reg' will give reg line"
   ]
  },
  {
   "cell_type": "markdown",
   "metadata": {},
   "source": [
    "**Obseration:** Salary has strong correlation with Age and Year of Experience."
   ]
  },
  {
   "cell_type": "code",
   "execution_count": 21,
   "metadata": {},
   "outputs": [
    {
     "data": {
      "image/png": "[encoded data removed]",
      "text/plain": [
       "<Figure size 640x480 with 1 Axes>"
      ]
     },
     "metadata": {},
     "output_type": "display_data"
    }
   ],
   "source": [
    "#Assumption of Normality: The dependent variable should follow an approximate normal distribution\n",
    "sns.distplot(df.Salary);"
   ]
  },
  {
   "cell_type": "markdown",
   "metadata": {},
   "source": [
    "**Observation:**\n",
    "Salary variable is not meeting the assumption and we can see the variable is right skewed and not following proper normal Distribution. If its not normal or if its skewed plot then we can transform the column by using log transformation"
   ]
  },
  {
   "cell_type": "code",
   "execution_count": 22,
   "metadata": {},
   "outputs": [
    {
     "data": {
      "text/plain": [
       "<AxesSubplot:xlabel='Salary'>"
      ]
     },
     "execution_count": 22,
     "metadata": {},
     "output_type": "execute_result"
    },
    {
     "data": {
      "image/png": "[encoded data removed]",
      "text/plain": [
       "<Figure size 640x480 with 1 Axes>"
      ]
     },
     "metadata": {},
     "output_type": "display_data"
    }
   ],
   "source": [
    "y_log = np.log1p(df.Salary)\n",
    "sns.distplot(y_log)"
   ]
  },
  {
   "cell_type": "code",
   "execution_count": 23,
   "metadata": {},
   "outputs": [
    {
     "data": {
      "image/png": "[encoded data removed]",
      "text/plain": [
       "<Figure size 640x480 with 6 Axes>"
      ]
     },
     "metadata": {},
     "output_type": "display_data"
    }
   ],
   "source": [
    "#checking for skewness for x variable\n",
    "df.iloc[:,0:-1].hist(bins=20);"
   ]
  },
  {
   "cell_type": "markdown",
   "metadata": {},
   "source": [
    "From above histograms we can clearly see that all the variables are normally distributed but age and years of experience are right skewed."
   ]
  },
  {
   "cell_type": "code",
   "execution_count": 24,
   "metadata": {},
   "outputs": [
    {
     "name": "stdout",
     "output_type": "stream",
     "text": [
      "Age                    0.668205\n",
      "Gender                -0.104648\n",
      "Education Level        0.133093\n",
      "Job Title              0.006280\n",
      "Years of Experience    0.896610\n",
      "dtype: float64\n",
      "Years of Experience    0.89661\n",
      "dtype: float64\n"
     ]
    }
   ],
   "source": [
    "#checking for skewness of all x variables \n",
    "from scipy.stats import skew\n",
    "#finding the skewness in each variable\n",
    "df_num_skew = df.iloc[:,0:-1].apply(lambda i: skew(i.dropna()))\n",
    "#subsetting the variables that are highly skewed\n",
    "df_num_skewed = df_num_skew[(df_num_skew > .75) | (df_num_skew < -.75)]\n",
    " \n",
    "print(df_num_skew)\n",
    "print(df_num_skewed)\n",
    "\n",
    "# apply log + 1 transformation for all numeric features with skewness over .75\n",
    "df.iloc[:,0:-1][df_num_skewed.index] = np.log1p(df.iloc[:,0:-1][df_num_skewed.index])"
   ]
  },
  {
   "cell_type": "code",
   "execution_count": 25,
   "metadata": {},
   "outputs": [
    {
     "name": "stdout",
     "output_type": "stream",
     "text": [
      "                          Age    Gender  Education Level  Job Title  \\\n",
      "Age                  1.000000  0.066990         0.458825   0.241655   \n",
      "Gender               0.066990  1.000000        -0.011111   0.029242   \n",
      "Education Level      0.458825 -0.011111         1.000000   0.112089   \n",
      "Job Title            0.241655  0.029242         0.112089   1.000000   \n",
      "Years of Experience  0.936263  0.072623         0.457789   0.222099   \n",
      "\n",
      "                     Years of Experience  \n",
      "Age                             0.936263  \n",
      "Gender                          0.072623  \n",
      "Education Level                 0.457789  \n",
      "Job Title                       0.222099  \n",
      "Years of Experience             1.000000  \n"
     ]
    },
    {
     "data": {
      "image/png": "[encoded data removed]",
      "text/plain": [
       "<Figure size 640x480 with 2 Axes>"
      ]
     },
     "metadata": {},
     "output_type": "display_data"
    }
   ],
   "source": [
    "#Assumption of no multicollinearity: There should be no multicollinearity where we are checking the relationship between the independent variables\n",
    "# multicollinearity is the relationship amongst the multiple independent variables\n",
    "import matplotlib.pyplot as plt\n",
    "corr_df=df.iloc[:,0:-1].corr(method=\"pearson\")\n",
    "print(corr_df)\n",
    " \n",
    "sns.heatmap(corr_df,vmax=1.0,vmin=-1.0,annot=True)\n",
    "plt.show()"
   ]
  },
  {
   "cell_type": "markdown",
   "metadata": {},
   "source": [
    "**Observation:** We want value close to 0 which means their is no correlated with each other. From above heatmap we can say that all the variables are moderate correlated with each other so here we can go ahead with all this variable since there is no variable with high corelation and all variables are in acceptable range.\n",
    "\n"
   ]
  },
  {
   "cell_type": "code",
   "execution_count": 26,
   "metadata": {},
   "outputs": [
    {
     "data": {
      "text/html": [
       "<div>\n",
       "<style scoped>\n",
       "    .dataframe tbody tr th:only-of-type {\n",
       "        vertical-align: middle;\n",
       "    }\n",
       "\n",
       "    .dataframe tbody tr th {\n",
       "        vertical-align: top;\n",
       "    }\n",
       "\n",
       "    .dataframe thead th {\n",
       "        text-align: right;\n",
       "    }\n",
       "</style>\n",
       "<table border=\"1\" class=\"dataframe\">\n",
       "  <thead>\n",
       "    <tr style=\"text-align: right;\">\n",
       "      <th></th>\n",
       "      <th>features</th>\n",
       "      <th>VIF Factor</th>\n",
       "    </tr>\n",
       "  </thead>\n",
       "  <tbody>\n",
       "    <tr>\n",
       "      <th>0</th>\n",
       "      <td>Age</td>\n",
       "      <td>11.93</td>\n",
       "    </tr>\n",
       "    <tr>\n",
       "      <th>1</th>\n",
       "      <td>Gender</td>\n",
       "      <td>2.17</td>\n",
       "    </tr>\n",
       "    <tr>\n",
       "      <th>2</th>\n",
       "      <td>Education Level</td>\n",
       "      <td>2.71</td>\n",
       "    </tr>\n",
       "    <tr>\n",
       "      <th>3</th>\n",
       "      <td>Job Title</td>\n",
       "      <td>3.84</td>\n",
       "    </tr>\n",
       "    <tr>\n",
       "      <th>4</th>\n",
       "      <td>Years of Experience</td>\n",
       "      <td>6.20</td>\n",
       "    </tr>\n",
       "  </tbody>\n",
       "</table>\n",
       "</div>"
      ],
      "text/plain": [
       "              features  VIF Factor\n",
       "0                  Age       11.93\n",
       "1               Gender        2.17\n",
       "2      Education Level        2.71\n",
       "3            Job Title        3.84\n",
       "4  Years of Experience        6.20"
      ]
     },
     "execution_count": 26,
     "metadata": {},
     "output_type": "execute_result"
    }
   ],
   "source": [
    "from statsmodels.stats.outliers_influence import variance_inflation_factor as vif\n",
    "\n",
    "vif_df = pd.DataFrame()\n",
    "vif_df[\"features\"] = df.iloc[:,0:-1].columns\n",
    "vif_df[\"VIF Factor\"] = [vif(df.iloc[:,0:-1].values, i) for i in range(df.iloc[:,0:-1].shape[1])]\n",
    "vif_df.round(2)"
   ]
  },
  {
   "cell_type": "markdown",
   "metadata": {},
   "source": [
    "**Observation:** VIF value should be less than 5 which is good that represent no multicolinearity. since age and years of experience is the importand variable in the data will not eliminate those variables"
   ]
  },
  {
   "cell_type": "code",
   "execution_count": 27,
   "metadata": {},
   "outputs": [
    {
     "data": {
      "text/html": [
       "<div>\n",
       "<style scoped>\n",
       "    .dataframe tbody tr th:only-of-type {\n",
       "        vertical-align: middle;\n",
       "    }\n",
       "\n",
       "    .dataframe tbody tr th {\n",
       "        vertical-align: top;\n",
       "    }\n",
       "\n",
       "    .dataframe thead th {\n",
       "        text-align: right;\n",
       "    }\n",
       "</style>\n",
       "<table border=\"1\" class=\"dataframe\">\n",
       "  <thead>\n",
       "    <tr style=\"text-align: right;\">\n",
       "      <th></th>\n",
       "      <th>age</th>\n",
       "      <th>gender</th>\n",
       "      <th>education_level</th>\n",
       "      <th>job_title</th>\n",
       "      <th>experience</th>\n",
       "      <th>salary</th>\n",
       "    </tr>\n",
       "  </thead>\n",
       "  <tbody>\n",
       "    <tr>\n",
       "      <th>0</th>\n",
       "      <td>32.0</td>\n",
       "      <td>1</td>\n",
       "      <td>0</td>\n",
       "      <td>175</td>\n",
       "      <td>5.0</td>\n",
       "      <td>90000.0</td>\n",
       "    </tr>\n",
       "    <tr>\n",
       "      <th>1</th>\n",
       "      <td>28.0</td>\n",
       "      <td>0</td>\n",
       "      <td>2</td>\n",
       "      <td>18</td>\n",
       "      <td>3.0</td>\n",
       "      <td>65000.0</td>\n",
       "    </tr>\n",
       "    <tr>\n",
       "      <th>2</th>\n",
       "      <td>45.0</td>\n",
       "      <td>1</td>\n",
       "      <td>3</td>\n",
       "      <td>144</td>\n",
       "      <td>15.0</td>\n",
       "      <td>150000.0</td>\n",
       "    </tr>\n",
       "    <tr>\n",
       "      <th>3</th>\n",
       "      <td>36.0</td>\n",
       "      <td>0</td>\n",
       "      <td>0</td>\n",
       "      <td>115</td>\n",
       "      <td>7.0</td>\n",
       "      <td>60000.0</td>\n",
       "    </tr>\n",
       "    <tr>\n",
       "      <th>4</th>\n",
       "      <td>52.0</td>\n",
       "      <td>1</td>\n",
       "      <td>2</td>\n",
       "      <td>25</td>\n",
       "      <td>20.0</td>\n",
       "      <td>200000.0</td>\n",
       "    </tr>\n",
       "  </tbody>\n",
       "</table>\n",
       "</div>"
      ],
      "text/plain": [
       "    age  gender  education_level  job_title  experience    salary\n",
       "0  32.0       1                0        175         5.0   90000.0\n",
       "1  28.0       0                2         18         3.0   65000.0\n",
       "2  45.0       1                3        144        15.0  150000.0\n",
       "3  36.0       0                0        115         7.0   60000.0\n",
       "4  52.0       1                2         25        20.0  200000.0"
      ]
     },
     "execution_count": 27,
     "metadata": {},
     "output_type": "execute_result"
    }
   ],
   "source": [
    "# rename columns\n",
    "df = df.rename(columns={'Age':'age', 'Gender':'gender','Education Level':'education_level', 'Job Title':'job_title', 'Years of Experience':'experience', 'Salary':'salary'})\n",
    "df.head()"
   ]
  },
  {
   "cell_type": "code",
   "execution_count": 28,
   "metadata": {},
   "outputs": [],
   "source": [
    "x=df.loc[:,['age','gender','education_level', 'job_title', 'experience']]\n",
    "y=df.salary\n",
    "y=y.astype(int)"
   ]
  },
  {
   "cell_type": "code",
   "execution_count": 29,
   "metadata": {},
   "outputs": [],
   "source": [
    "#splitting the data into training and testing\n",
    "from sklearn.model_selection import train_test_split\n",
    "\n",
    "x_train, x_test, y_train, y_test= train_test_split(x, y, test_size=0.3, random_state=10)"
   ]
  },
  {
   "cell_type": "code",
   "execution_count": 30,
   "metadata": {},
   "outputs": [
    {
     "name": "stdout",
     "output_type": "stream",
     "text": [
      "(1250, 5)\n",
      "(1250,)\n",
      "(536, 5)\n",
      "(536,)\n"
     ]
    }
   ],
   "source": [
    "print(x_train.shape)\n",
    "print(y_train.shape)\n",
    "print(x_test.shape)\n",
    "print(y_test.shape)"
   ]
  },
  {
   "cell_type": "code",
   "execution_count": 31,
   "metadata": {},
   "outputs": [
    {
     "data": {
      "text/html": [
       "<div>\n",
       "<style scoped>\n",
       "    .dataframe tbody tr th:only-of-type {\n",
       "        vertical-align: middle;\n",
       "    }\n",
       "\n",
       "    .dataframe tbody tr th {\n",
       "        vertical-align: top;\n",
       "    }\n",
       "\n",
       "    .dataframe thead th {\n",
       "        text-align: right;\n",
       "    }\n",
       "</style>\n",
       "<table border=\"1\" class=\"dataframe\">\n",
       "  <thead>\n",
       "    <tr style=\"text-align: right;\">\n",
       "      <th></th>\n",
       "      <th>age</th>\n",
       "      <th>gender</th>\n",
       "      <th>education_level</th>\n",
       "      <th>job_title</th>\n",
       "      <th>experience</th>\n",
       "    </tr>\n",
       "  </thead>\n",
       "  <tbody>\n",
       "    <tr>\n",
       "      <th>247</th>\n",
       "      <td>31.0</td>\n",
       "      <td>1</td>\n",
       "      <td>0</td>\n",
       "      <td>68</td>\n",
       "      <td>3.0</td>\n",
       "    </tr>\n",
       "    <tr>\n",
       "      <th>1661</th>\n",
       "      <td>32.0</td>\n",
       "      <td>1</td>\n",
       "      <td>0</td>\n",
       "      <td>43</td>\n",
       "      <td>6.0</td>\n",
       "    </tr>\n",
       "    <tr>\n",
       "      <th>3132</th>\n",
       "      <td>41.0</td>\n",
       "      <td>1</td>\n",
       "      <td>3</td>\n",
       "      <td>176</td>\n",
       "      <td>16.0</td>\n",
       "    </tr>\n",
       "    <tr>\n",
       "      <th>2267</th>\n",
       "      <td>26.0</td>\n",
       "      <td>1</td>\n",
       "      <td>0</td>\n",
       "      <td>174</td>\n",
       "      <td>2.0</td>\n",
       "    </tr>\n",
       "    <tr>\n",
       "      <th>3439</th>\n",
       "      <td>30.0</td>\n",
       "      <td>1</td>\n",
       "      <td>1</td>\n",
       "      <td>70</td>\n",
       "      <td>1.0</td>\n",
       "    </tr>\n",
       "    <tr>\n",
       "      <th>...</th>\n",
       "      <td>...</td>\n",
       "      <td>...</td>\n",
       "      <td>...</td>\n",
       "      <td>...</td>\n",
       "      <td>...</td>\n",
       "    </tr>\n",
       "    <tr>\n",
       "      <th>4528</th>\n",
       "      <td>28.0</td>\n",
       "      <td>1</td>\n",
       "      <td>1</td>\n",
       "      <td>92</td>\n",
       "      <td>2.0</td>\n",
       "    </tr>\n",
       "    <tr>\n",
       "      <th>2399</th>\n",
       "      <td>35.0</td>\n",
       "      <td>0</td>\n",
       "      <td>2</td>\n",
       "      <td>44</td>\n",
       "      <td>10.0</td>\n",
       "    </tr>\n",
       "    <tr>\n",
       "      <th>6276</th>\n",
       "      <td>39.0</td>\n",
       "      <td>1</td>\n",
       "      <td>3</td>\n",
       "      <td>96</td>\n",
       "      <td>10.0</td>\n",
       "    </tr>\n",
       "    <tr>\n",
       "      <th>3115</th>\n",
       "      <td>33.0</td>\n",
       "      <td>0</td>\n",
       "      <td>2</td>\n",
       "      <td>43</td>\n",
       "      <td>9.0</td>\n",
       "    </tr>\n",
       "    <tr>\n",
       "      <th>114</th>\n",
       "      <td>23.0</td>\n",
       "      <td>0</td>\n",
       "      <td>0</td>\n",
       "      <td>71</td>\n",
       "      <td>0.5</td>\n",
       "    </tr>\n",
       "  </tbody>\n",
       "</table>\n",
       "<p>536 rows × 5 columns</p>\n",
       "</div>"
      ],
      "text/plain": [
       "       age  gender  education_level  job_title  experience\n",
       "247   31.0       1                0         68         3.0\n",
       "1661  32.0       1                0         43         6.0\n",
       "3132  41.0       1                3        176        16.0\n",
       "2267  26.0       1                0        174         2.0\n",
       "3439  30.0       1                1         70         1.0\n",
       "...    ...     ...              ...        ...         ...\n",
       "4528  28.0       1                1         92         2.0\n",
       "2399  35.0       0                2         44        10.0\n",
       "6276  39.0       1                3         96        10.0\n",
       "3115  33.0       0                2         43         9.0\n",
       "114   23.0       0                0         71         0.5\n",
       "\n",
       "[536 rows x 5 columns]"
      ]
     },
     "execution_count": 31,
     "metadata": {},
     "output_type": "execute_result"
    }
   ],
   "source": [
    "new_df=x_test.copy()\n",
    "new_df"
   ]
  },
  {
   "cell_type": "code",
   "execution_count": 32,
   "metadata": {},
   "outputs": [],
   "source": [
    "#scalling the data\n",
    "from sklearn.preprocessing import StandardScaler\n",
    "scaler=StandardScaler()\n",
    "x = scaler.fit_transform(x)      "
   ]
  },
  {
   "cell_type": "markdown",
   "metadata": {},
   "source": [
    "## Linear Regression"
   ]
  },
  {
   "cell_type": "code",
   "execution_count": 33,
   "metadata": {},
   "outputs": [
    {
     "data": {
      "text/plain": [
       "LinearRegression()"
      ]
     },
     "execution_count": 33,
     "metadata": {},
     "output_type": "execute_result"
    }
   ],
   "source": [
    "from sklearn.linear_model import LinearRegression\n",
    "\n",
    "lm=LinearRegression()\n",
    "\n",
    "# train the model object\n",
    "lm.fit(x_train, y_train)  "
   ]
  },
  {
   "cell_type": "code",
   "execution_count": 34,
   "metadata": {},
   "outputs": [
    {
     "name": "stdout",
     "output_type": "stream",
     "text": [
      "R-squared: 0.6955529610277507\n",
      "RMSE: 28327.105506965152\n",
      "Adj R-square: 0.6946977727160308\n"
     ]
    }
   ],
   "source": [
    "y_pred=lm.predict(x_test)\n",
    "#print(y_pred) \n",
    "\n",
    "from sklearn.metrics import r2_score,mean_squared_error\n",
    "print(\"R-squared:\", r2_score(y_test,y_pred))\n",
    "print(\"RMSE:\", np.sqrt(mean_squared_error(y_test,y_pred)))\n",
    "print(\"Adj R-square:\", 1 - (1-r2_score(y_test,y_pred))*(len(y)-1)/(len(y)-x.shape[1]-1))"
   ]
  },
  {
   "cell_type": "markdown",
   "metadata": {},
   "source": [
    "## Ridge Regression"
   ]
  },
  {
   "cell_type": "code",
   "execution_count": 35,
   "metadata": {},
   "outputs": [
    {
     "data": {
      "text/plain": [
       "Ridge()"
      ]
     },
     "execution_count": 35,
     "metadata": {},
     "output_type": "execute_result"
    }
   ],
   "source": [
    "from sklearn.linear_model import Ridge\n",
    "\n",
    "rid = Ridge()\n",
    "\n",
    "rid.fit(x_train, y_train)  "
   ]
  },
  {
   "cell_type": "code",
   "execution_count": 36,
   "metadata": {},
   "outputs": [
    {
     "name": "stdout",
     "output_type": "stream",
     "text": [
      "R-squared: 0.6955447575177555\n",
      "RMSE: 28327.487149907967\n",
      "Adj R-square: 0.6946895461624683\n"
     ]
    }
   ],
   "source": [
    "y_pred = rid.predict(x_test)\n",
    "#print(y_pred)\n",
    "\n",
    "print(\"R-squared:\", r2_score(y_test,y_pred))\n",
    "print(\"RMSE:\", np.sqrt(mean_squared_error(y_test,y_pred)))\n",
    "print(\"Adj R-square:\", 1 - (1-r2_score(y_test,y_pred))*(len(y)-1)/(len(y)-x.shape[1]-1))"
   ]
  },
  {
   "cell_type": "markdown",
   "metadata": {},
   "source": [
    "## Lasso Regression"
   ]
  },
  {
   "cell_type": "code",
   "execution_count": 37,
   "metadata": {},
   "outputs": [
    {
     "data": {
      "text/plain": [
       "Lasso()"
      ]
     },
     "execution_count": 37,
     "metadata": {},
     "output_type": "execute_result"
    }
   ],
   "source": [
    "from sklearn.linear_model import Lasso\n",
    "\n",
    "las = Lasso()\n",
    "\n",
    "las.fit(x_train, y_train)  "
   ]
  },
  {
   "cell_type": "code",
   "execution_count": 38,
   "metadata": {},
   "outputs": [
    {
     "name": "stdout",
     "output_type": "stream",
     "text": [
      "R-squared: 0.6955513187769619\n",
      "RMSE: 28327.181908018003\n",
      "Adj R-square: 0.694696125852178\n"
     ]
    }
   ],
   "source": [
    "y_pred = las.predict(x_test)\n",
    "\n",
    "print(\"R-squared:\", r2_score(y_test,y_pred))\n",
    "print(\"RMSE:\", np.sqrt(mean_squared_error(y_test,y_pred)))\n",
    "print(\"Adj R-square:\", 1 - (1-r2_score(y_test,y_pred))*(len(y)-1)/(len(y)-x.shape[1]-1))"
   ]
  },
  {
   "cell_type": "markdown",
   "metadata": {},
   "source": [
    "## Decision Tree"
   ]
  },
  {
   "cell_type": "code",
   "execution_count": 39,
   "metadata": {},
   "outputs": [
    {
     "name": "stderr",
     "output_type": "stream",
     "text": [
      "E:\\Anaconda\\lib\\site-packages\\sklearn\\tree\\_classes.py:363: FutureWarning: Criterion 'mse' was deprecated in v1.0 and will be removed in version 1.2. Use `criterion='squared_error'` which is equivalent.\n",
      "  FutureWarning,\n"
     ]
    },
    {
     "data": {
      "text/plain": [
       "DecisionTreeRegressor(criterion='mse', random_state=10)"
      ]
     },
     "execution_count": 39,
     "metadata": {},
     "output_type": "execute_result"
    }
   ],
   "source": [
    "from sklearn.tree import DecisionTreeRegressor\n",
    "\n",
    "model_DT = DecisionTreeRegressor(random_state=10, criterion='mse') \n",
    "\n",
    "#fit the model on the data and predict the values\n",
    "model_DT.fit(x_train, y_train)"
   ]
  },
  {
   "cell_type": "code",
   "execution_count": 40,
   "metadata": {},
   "outputs": [
    {
     "name": "stdout",
     "output_type": "stream",
     "text": [
      "R-squared: 0.7926468848497787\n",
      "RMSE: 23377.690520689393\n",
      "Adj R-square: 0.792064432279132\n"
     ]
    }
   ],
   "source": [
    "#predicting the model\n",
    "y_pred = model_DT.predict(x_test)\n",
    "#print(list(zip(y_test,y_pred)))\n",
    "\n",
    "print(\"R-squared:\", r2_score(y_test,y_pred))\n",
    "print(\"RMSE:\", np.sqrt(mean_squared_error(y_test,y_pred)))\n",
    "print(\"Adj R-square:\", 1 - (1-r2_score(y_test,y_pred))*(len(y)-1)/(len(y)-x.shape[1]-1))"
   ]
  },
  {
   "cell_type": "markdown",
   "metadata": {},
   "source": [
    "## Tunned Decision Tree"
   ]
  },
  {
   "cell_type": "code",
   "execution_count": 41,
   "metadata": {},
   "outputs": [
    {
     "name": "stdout",
     "output_type": "stream",
     "text": [
      "R-squared: 0.8001328575378661\n",
      "RMSE: 22951.81446403833\n",
      "Adj R-square: 0.7995714329803882\n"
     ]
    }
   ],
   "source": [
    "from sklearn.tree import DecisionTreeRegressor\n",
    "\n",
    "model_DT=DecisionTreeRegressor(max_depth=12,min_samples_leaf=4,random_state=10)\n",
    "model_DT.fit(x_train,y_train)\n",
    "#fit the model on the data and predict the values\n",
    "y_pred=model_DT.predict(x_test)\n",
    "#print(y_pred)\n",
    "\n",
    "print(\"R-squared:\", r2_score(y_test,y_pred))\n",
    "print(\"RMSE:\", np.sqrt(mean_squared_error(y_test,y_pred)))\n",
    "print(\"Adj R-square:\", 1 - (1-r2_score(y_test,y_pred))*(len(y)-1)/(len(y)-x.shape[1]-1))"
   ]
  },
  {
   "cell_type": "markdown",
   "metadata": {},
   "source": [
    "## KNN"
   ]
  },
  {
   "cell_type": "code",
   "execution_count": 42,
   "metadata": {},
   "outputs": [
    {
     "name": "stdout",
     "output_type": "stream",
     "text": [
      "R-squared: 0.7838140288470182\n",
      "RMSE: 23870.420903215312\n",
      "Adj R-square: 0.7832067648831054\n"
     ]
    }
   ],
   "source": [
    "#predicting using the KNeighbors_Regressor\n",
    "from sklearn.neighbors import KNeighborsRegressor\n",
    "model_KNN=KNeighborsRegressor(n_neighbors=int(np.sqrt(len(y_train))), metric='euclidean')\n",
    "#fit the model on the data and predict the values\n",
    "model_KNN.fit(x_train,y_train)\n",
    "y_pred=model_KNN.predict(x_test)\n",
    "\n",
    "#KNN is ideally suitable for less number of observation\n",
    "\n",
    "print(\"R-squared:\", r2_score(y_test,y_pred))\n",
    "print(\"RMSE:\", np.sqrt(mean_squared_error(y_test,y_pred)))\n",
    "print(\"Adj R-square:\", 1 - (1-r2_score(y_test,y_pred))*(len(y)-1)/(len(y)-x.shape[1]-1))"
   ]
  },
  {
   "cell_type": "markdown",
   "metadata": {},
   "source": [
    "## SVM"
   ]
  },
  {
   "cell_type": "code",
   "execution_count": 43,
   "metadata": {},
   "outputs": [
    {
     "name": "stdout",
     "output_type": "stream",
     "text": [
      "R-squared: -0.004160848068375689\n",
      "RMSE: 51445.56782403634\n",
      "Adj R-square: -0.0069815246078936966\n"
     ]
    }
   ],
   "source": [
    "#predicting using the KNeighbors_Regressor\n",
    "from sklearn.svm import SVR\n",
    "model_SVR=SVR(kernel=\"rbf\",gamma=0.1,C=1)\n",
    "#fit the model on the data and predict the values\n",
    "model_SVR.fit(x_train,y_train)\n",
    "y_pred=model_SVR.predict(x_test)\n",
    "\n",
    "print(\"R-squared:\", r2_score(y_test,y_pred))\n",
    "print(\"RMSE:\", np.sqrt(mean_squared_error(y_test,y_pred)))\n",
    "print(\"Adj R-square:\", 1 - (1-r2_score(y_test,y_pred))*(len(y)-1)/(len(y)-x.shape[1]-1))"
   ]
  },
  {
   "cell_type": "markdown",
   "metadata": {},
   "source": [
    "## Random Forest"
   ]
  },
  {
   "cell_type": "code",
   "execution_count": 44,
   "metadata": {},
   "outputs": [
    {
     "data": {
      "text/plain": [
       "RandomForestRegressor(random_state=10)"
      ]
     },
     "execution_count": 44,
     "metadata": {},
     "output_type": "execute_result"
    }
   ],
   "source": [
    "#predicting using the RandomForestRegressor\n",
    "from sklearn.ensemble import RandomForestRegressor\n",
    "\n",
    "model_RF=RandomForestRegressor(n_estimators=100,random_state=10)\n",
    "\n",
    "model_RF.fit(x_train,y_train)"
   ]
  },
  {
   "cell_type": "code",
   "execution_count": 46,
   "metadata": {},
   "outputs": [
    {
     "name": "stdout",
     "output_type": "stream",
     "text": [
      "R-squared: 0.8555659739349835\n",
      "RMSE: 19511.06975158833\n",
      "Adj R-square: 0.855160260378621\n"
     ]
    }
   ],
   "source": [
    "y_pred=model_RF.predict(x_test)\n",
    "#print(y_pred)\n",
    "\n",
    "from sklearn.metrics import r2_score,mean_squared_error\n",
    "\n",
    "print(\"R-squared:\", r2_score(y_test,y_pred))\n",
    "print(\"RMSE:\", np.sqrt(mean_squared_error(y_test,y_pred)))\n",
    "print(\"Adj R-square:\", 1 - (1-r2_score(y_test,y_pred))*(len(y)-1)/(len(y)-x.shape[1]-1))"
   ]
  },
  {
   "cell_type": "code",
   "execution_count": 47,
   "metadata": {},
   "outputs": [
    {
     "name": "stdout",
     "output_type": "stream",
     "text": [
      "350\n",
      "250000\n"
     ]
    }
   ],
   "source": [
    "print(y_test.min())\n",
    "print(y_test.max())"
   ]
  },
  {
   "cell_type": "code",
   "execution_count": 48,
   "metadata": {},
   "outputs": [
    {
     "data": {
      "text/plain": [
       "0.9783472025437538"
      ]
     },
     "execution_count": 48,
     "metadata": {},
     "output_type": "execute_result"
    }
   ],
   "source": [
    "model_RF.score(x_train, y_train)"
   ]
  },
  {
   "cell_type": "code",
   "execution_count": 49,
   "metadata": {},
   "outputs": [
    {
     "name": "stdout",
     "output_type": "stream",
     "text": [
      "[('gender', 0.07807491700444862), ('education_level', 0.008639817854772828), ('job_title', 0.024251773577535645), ('experience', 0.12376992042599737), ('salary', 0.7652635711372455)]\n"
     ]
    }
   ],
   "source": [
    "print(list(zip(df.columns[1:],model_RF.feature_importances_)))"
   ]
  },
  {
   "cell_type": "markdown",
   "metadata": {},
   "source": [
    "**Observation:** From above zip list result we can notice that all variable are used while building Random forest where salary, years of experience and gender are most used where as education level and job title are less used."
   ]
  },
  {
   "cell_type": "code",
   "execution_count": 50,
   "metadata": {},
   "outputs": [
    {
     "data": {
      "text/html": [
       "<div>\n",
       "<style scoped>\n",
       "    .dataframe tbody tr th:only-of-type {\n",
       "        vertical-align: middle;\n",
       "    }\n",
       "\n",
       "    .dataframe tbody tr th {\n",
       "        vertical-align: top;\n",
       "    }\n",
       "\n",
       "    .dataframe thead th {\n",
       "        text-align: right;\n",
       "    }\n",
       "</style>\n",
       "<table border=\"1\" class=\"dataframe\">\n",
       "  <thead>\n",
       "    <tr style=\"text-align: right;\">\n",
       "      <th></th>\n",
       "      <th>age</th>\n",
       "      <th>gender</th>\n",
       "      <th>education_level</th>\n",
       "      <th>job_title</th>\n",
       "      <th>experience</th>\n",
       "      <th>actual salary</th>\n",
       "      <th>predicted salary</th>\n",
       "    </tr>\n",
       "  </thead>\n",
       "  <tbody>\n",
       "    <tr>\n",
       "      <th>247</th>\n",
       "      <td>31.0</td>\n",
       "      <td>1</td>\n",
       "      <td>0</td>\n",
       "      <td>68</td>\n",
       "      <td>3.0</td>\n",
       "      <td>50000</td>\n",
       "      <td>50650.000000</td>\n",
       "    </tr>\n",
       "    <tr>\n",
       "      <th>1661</th>\n",
       "      <td>32.0</td>\n",
       "      <td>1</td>\n",
       "      <td>0</td>\n",
       "      <td>43</td>\n",
       "      <td>6.0</td>\n",
       "      <td>110000</td>\n",
       "      <td>108773.733333</td>\n",
       "    </tr>\n",
       "    <tr>\n",
       "      <th>3132</th>\n",
       "      <td>41.0</td>\n",
       "      <td>1</td>\n",
       "      <td>3</td>\n",
       "      <td>176</td>\n",
       "      <td>16.0</td>\n",
       "      <td>151310</td>\n",
       "      <td>168803.673333</td>\n",
       "    </tr>\n",
       "    <tr>\n",
       "      <th>2267</th>\n",
       "      <td>26.0</td>\n",
       "      <td>1</td>\n",
       "      <td>0</td>\n",
       "      <td>174</td>\n",
       "      <td>2.0</td>\n",
       "      <td>60000</td>\n",
       "      <td>57911.333333</td>\n",
       "    </tr>\n",
       "    <tr>\n",
       "      <th>3439</th>\n",
       "      <td>30.0</td>\n",
       "      <td>1</td>\n",
       "      <td>1</td>\n",
       "      <td>70</td>\n",
       "      <td>1.0</td>\n",
       "      <td>32000</td>\n",
       "      <td>31443.333333</td>\n",
       "    </tr>\n",
       "    <tr>\n",
       "      <th>...</th>\n",
       "      <td>...</td>\n",
       "      <td>...</td>\n",
       "      <td>...</td>\n",
       "      <td>...</td>\n",
       "      <td>...</td>\n",
       "      <td>...</td>\n",
       "      <td>...</td>\n",
       "    </tr>\n",
       "    <tr>\n",
       "      <th>4528</th>\n",
       "      <td>28.0</td>\n",
       "      <td>1</td>\n",
       "      <td>1</td>\n",
       "      <td>92</td>\n",
       "      <td>2.0</td>\n",
       "      <td>43000</td>\n",
       "      <td>42878.333333</td>\n",
       "    </tr>\n",
       "    <tr>\n",
       "      <th>2399</th>\n",
       "      <td>35.0</td>\n",
       "      <td>0</td>\n",
       "      <td>2</td>\n",
       "      <td>44</td>\n",
       "      <td>10.0</td>\n",
       "      <td>152039</td>\n",
       "      <td>139990.765833</td>\n",
       "    </tr>\n",
       "    <tr>\n",
       "      <th>6276</th>\n",
       "      <td>39.0</td>\n",
       "      <td>1</td>\n",
       "      <td>3</td>\n",
       "      <td>96</td>\n",
       "      <td>10.0</td>\n",
       "      <td>100000</td>\n",
       "      <td>105489.106667</td>\n",
       "    </tr>\n",
       "    <tr>\n",
       "      <th>3115</th>\n",
       "      <td>33.0</td>\n",
       "      <td>0</td>\n",
       "      <td>2</td>\n",
       "      <td>43</td>\n",
       "      <td>9.0</td>\n",
       "      <td>121120</td>\n",
       "      <td>121996.076667</td>\n",
       "    </tr>\n",
       "    <tr>\n",
       "      <th>114</th>\n",
       "      <td>23.0</td>\n",
       "      <td>0</td>\n",
       "      <td>0</td>\n",
       "      <td>71</td>\n",
       "      <td>0.5</td>\n",
       "      <td>35000</td>\n",
       "      <td>33740.000000</td>\n",
       "    </tr>\n",
       "  </tbody>\n",
       "</table>\n",
       "<p>536 rows × 7 columns</p>\n",
       "</div>"
      ],
      "text/plain": [
       "       age  gender  education_level  job_title  experience  actual salary  \\\n",
       "247   31.0       1                0         68         3.0          50000   \n",
       "1661  32.0       1                0         43         6.0         110000   \n",
       "3132  41.0       1                3        176        16.0         151310   \n",
       "2267  26.0       1                0        174         2.0          60000   \n",
       "3439  30.0       1                1         70         1.0          32000   \n",
       "...    ...     ...              ...        ...         ...            ...   \n",
       "4528  28.0       1                1         92         2.0          43000   \n",
       "2399  35.0       0                2         44        10.0         152039   \n",
       "6276  39.0       1                3         96        10.0         100000   \n",
       "3115  33.0       0                2         43         9.0         121120   \n",
       "114   23.0       0                0         71         0.5          35000   \n",
       "\n",
       "      predicted salary  \n",
       "247       50650.000000  \n",
       "1661     108773.733333  \n",
       "3132     168803.673333  \n",
       "2267      57911.333333  \n",
       "3439      31443.333333  \n",
       "...                ...  \n",
       "4528      42878.333333  \n",
       "2399     139990.765833  \n",
       "6276     105489.106667  \n",
       "3115     121996.076667  \n",
       "114       33740.000000  \n",
       "\n",
       "[536 rows x 7 columns]"
      ]
     },
     "execution_count": 50,
     "metadata": {},
     "output_type": "execute_result"
    }
   ],
   "source": [
    "new_df[\"actual salary\"]=y\n",
    "new_df[\"predicted salary\"]=y_pred\n",
    "new_df"
   ]
  },
  {
   "cell_type": "code",
   "execution_count": 51,
   "metadata": {},
   "outputs": [
    {
     "data": {
      "text/html": [
       "<div>\n",
       "<style scoped>\n",
       "    .dataframe tbody tr th:only-of-type {\n",
       "        vertical-align: middle;\n",
       "    }\n",
       "\n",
       "    .dataframe tbody tr th {\n",
       "        vertical-align: top;\n",
       "    }\n",
       "\n",
       "    .dataframe thead th {\n",
       "        text-align: right;\n",
       "    }\n",
       "</style>\n",
       "<table border=\"1\" class=\"dataframe\">\n",
       "  <thead>\n",
       "    <tr style=\"text-align: right;\">\n",
       "      <th></th>\n",
       "      <th>age</th>\n",
       "      <th>gender</th>\n",
       "      <th>education_level</th>\n",
       "      <th>job_title</th>\n",
       "      <th>experience</th>\n",
       "      <th>actual salary</th>\n",
       "      <th>predicted salary</th>\n",
       "    </tr>\n",
       "  </thead>\n",
       "  <tbody>\n",
       "    <tr>\n",
       "      <th>0</th>\n",
       "      <td>31.0</td>\n",
       "      <td>1</td>\n",
       "      <td>0</td>\n",
       "      <td>68</td>\n",
       "      <td>3.0</td>\n",
       "      <td>50000</td>\n",
       "      <td>50650.000000</td>\n",
       "    </tr>\n",
       "    <tr>\n",
       "      <th>1</th>\n",
       "      <td>32.0</td>\n",
       "      <td>1</td>\n",
       "      <td>0</td>\n",
       "      <td>43</td>\n",
       "      <td>6.0</td>\n",
       "      <td>110000</td>\n",
       "      <td>108773.733333</td>\n",
       "    </tr>\n",
       "    <tr>\n",
       "      <th>2</th>\n",
       "      <td>41.0</td>\n",
       "      <td>1</td>\n",
       "      <td>3</td>\n",
       "      <td>176</td>\n",
       "      <td>16.0</td>\n",
       "      <td>151310</td>\n",
       "      <td>168803.673333</td>\n",
       "    </tr>\n",
       "    <tr>\n",
       "      <th>3</th>\n",
       "      <td>26.0</td>\n",
       "      <td>1</td>\n",
       "      <td>0</td>\n",
       "      <td>174</td>\n",
       "      <td>2.0</td>\n",
       "      <td>60000</td>\n",
       "      <td>57911.333333</td>\n",
       "    </tr>\n",
       "    <tr>\n",
       "      <th>4</th>\n",
       "      <td>30.0</td>\n",
       "      <td>1</td>\n",
       "      <td>1</td>\n",
       "      <td>70</td>\n",
       "      <td>1.0</td>\n",
       "      <td>32000</td>\n",
       "      <td>31443.333333</td>\n",
       "    </tr>\n",
       "    <tr>\n",
       "      <th>...</th>\n",
       "      <td>...</td>\n",
       "      <td>...</td>\n",
       "      <td>...</td>\n",
       "      <td>...</td>\n",
       "      <td>...</td>\n",
       "      <td>...</td>\n",
       "      <td>...</td>\n",
       "    </tr>\n",
       "    <tr>\n",
       "      <th>531</th>\n",
       "      <td>28.0</td>\n",
       "      <td>1</td>\n",
       "      <td>1</td>\n",
       "      <td>92</td>\n",
       "      <td>2.0</td>\n",
       "      <td>43000</td>\n",
       "      <td>42878.333333</td>\n",
       "    </tr>\n",
       "    <tr>\n",
       "      <th>532</th>\n",
       "      <td>35.0</td>\n",
       "      <td>0</td>\n",
       "      <td>2</td>\n",
       "      <td>44</td>\n",
       "      <td>10.0</td>\n",
       "      <td>152039</td>\n",
       "      <td>139990.765833</td>\n",
       "    </tr>\n",
       "    <tr>\n",
       "      <th>533</th>\n",
       "      <td>39.0</td>\n",
       "      <td>1</td>\n",
       "      <td>3</td>\n",
       "      <td>96</td>\n",
       "      <td>10.0</td>\n",
       "      <td>100000</td>\n",
       "      <td>105489.106667</td>\n",
       "    </tr>\n",
       "    <tr>\n",
       "      <th>534</th>\n",
       "      <td>33.0</td>\n",
       "      <td>0</td>\n",
       "      <td>2</td>\n",
       "      <td>43</td>\n",
       "      <td>9.0</td>\n",
       "      <td>121120</td>\n",
       "      <td>121996.076667</td>\n",
       "    </tr>\n",
       "    <tr>\n",
       "      <th>535</th>\n",
       "      <td>23.0</td>\n",
       "      <td>0</td>\n",
       "      <td>0</td>\n",
       "      <td>71</td>\n",
       "      <td>0.5</td>\n",
       "      <td>35000</td>\n",
       "      <td>33740.000000</td>\n",
       "    </tr>\n",
       "  </tbody>\n",
       "</table>\n",
       "<p>536 rows × 7 columns</p>\n",
       "</div>"
      ],
      "text/plain": [
       "      age  gender  education_level  job_title  experience  actual salary  \\\n",
       "0    31.0       1                0         68         3.0          50000   \n",
       "1    32.0       1                0         43         6.0         110000   \n",
       "2    41.0       1                3        176        16.0         151310   \n",
       "3    26.0       1                0        174         2.0          60000   \n",
       "4    30.0       1                1         70         1.0          32000   \n",
       "..    ...     ...              ...        ...         ...            ...   \n",
       "531  28.0       1                1         92         2.0          43000   \n",
       "532  35.0       0                2         44        10.0         152039   \n",
       "533  39.0       1                3         96        10.0         100000   \n",
       "534  33.0       0                2         43         9.0         121120   \n",
       "535  23.0       0                0         71         0.5          35000   \n",
       "\n",
       "     predicted salary  \n",
       "0        50650.000000  \n",
       "1       108773.733333  \n",
       "2       168803.673333  \n",
       "3        57911.333333  \n",
       "4        31443.333333  \n",
       "..                ...  \n",
       "531      42878.333333  \n",
       "532     139990.765833  \n",
       "533     105489.106667  \n",
       "534     121996.076667  \n",
       "535      33740.000000  \n",
       "\n",
       "[536 rows x 7 columns]"
      ]
     },
     "execution_count": 51,
     "metadata": {},
     "output_type": "execute_result"
    }
   ],
   "source": [
    "new_df=new_df.reset_index().drop('index',axis=1) \n",
    "new_df"
   ]
  },
  {
   "cell_type": "markdown",
   "metadata": {},
   "source": [
    "## Tunned Random Forest"
   ]
  },
  {
   "cell_type": "code",
   "execution_count": 52,
   "metadata": {},
   "outputs": [
    {
     "name": "stdout",
     "output_type": "stream",
     "text": [
      "R-squared: 0.8503249802880343\n",
      "RMSE: 19861.90886755423\n",
      "Adj R-square: 0.8499045448394051\n"
     ]
    }
   ],
   "source": [
    "#predicting using the RandomForestRegressor\n",
    "from sklearn.ensemble import RandomForestRegressor\n",
    "\n",
    "model_tunned_RF=RandomForestRegressor(n_estimators=300,random_state=10,\n",
    "                                        max_depth=12,min_samples_leaf=4)\n",
    "model_tunned_RF.fit(x_train,y_train)\n",
    "#fit the model on the data and predict the values\n",
    "y_pred=model_tunned_RF.predict(x_test)\n",
    "#print(y_pred)\n",
    "\n",
    "print(\"R-squared:\", r2_score(y_test,y_pred))\n",
    "print(\"RMSE:\", np.sqrt(mean_squared_error(y_test,y_pred)))\n",
    "print(\"Adj R-square:\", 1 - (1-r2_score(y_test,y_pred))*(len(y)-1)/(len(y)-x.shape[1]-1))"
   ]
  },
  {
   "cell_type": "markdown",
   "metadata": {},
   "source": [
    "**Observation:** \n",
    "\n",
    "1. R-square value tells you how much variablity you can explain in the data with the help of regression equation. You will get value in the range of 0 to 1 so close to 1 means good model and close to 0 means worst model. In our case r2 value is not close to 1, r2 and adjusted r2 value must be almost similar, and RMSE value must be lower as possible \n",
    "\n",
    "2. From above models, Base Random Forest model has showned highest accuracy score then other models so I select Random Forest as the best model. Also overall score for random forest on train data is 91% and model accuracy is 87% and RMSE value is 50 which is lower i.e close to min= 4. With this I conclude that the linear regression model needs tunning."
   ]
  },
  {
   "cell_type": "markdown",
   "metadata": {},
   "source": [
    "## Predicting for single person by creating a function for user input"
   ]
  },
  {
   "cell_type": "code",
   "execution_count": 53,
   "metadata": {},
   "outputs": [],
   "source": [
    "def ask_user():\n",
    "    \n",
    "    user_data = []\n",
    "    \n",
    "    a = float(input(\"Enter your Age:\"))\n",
    "    user_data.append(a)\n",
    "    \n",
    "    a = float(input(\"Enter your Highest Qualification:\\n 0 -> Bachelor's Degree | 1 -> High School | 2 -> Master's Degree | 3 -> PhD \"))\n",
    "    user_data.append(a)\n",
    "    \n",
    "    a = float(input(\"Years of Experience : \"))\n",
    "    user_data.append(a)\n",
    "    \n",
    "    a = float(input(\"Enter your Gender :\\n 0 -> Female | 1 -> Male | 2 -> Other \"))\n",
    "    user_data.append(a)\n",
    "    \n",
    "    options = ['Account Manager','Accountant','Administrative Assistant',\n",
    "                'Back end Developer','Business Analyst','Business Development Manager',\n",
    "               'Business Intelligence Analyst','CEO','Chief Data Officer','Chief Technology Officer','Content Marketing Manager',\n",
    "             'Copywriter','Creative Director','Customer Service Manager','Customer Service Rep','Customer Service Representative',\n",
    "             'Customer Success Manager', 'Customer Success Rep', 'Data Analyst', 'Data Entry Clerk', 'Data Scientist', 'Delivery Driver', 'Developer', 'Digital Content Producer',\n",
    "             'Digital Marketing Manager', 'Digital Marketing Specialist', 'Director', 'Director of Business Development', 'Director of Data Science', 'Director of Engineering', 'Director of Finance', 'Director of HR', 'Director of Human Capital',\n",
    "             'Director of Human Resources', 'Director of Marketing', 'Director of Operations', 'Director of Product Management', 'Director of Sales', 'Director of Sales and Marketing', 'Event Coordinator', 'Financial Advisor', 'Financial Analyst', 'Financial Manager',\n",
    "             'Front End Developer', 'Front end Developer', 'Full Stack Engineer', 'Graphic Designer', 'HR Generalist', 'HR Manager', 'Help Desk Analyst', 'Human Resources Coordinator',\n",
    "             'Human Resources Director', 'Human Resources Manager', 'IT Manager', 'IT Support', 'IT Support Specialist', 'Junior Account Manager', 'Junior Accountant', 'Junior Advertising Coordinator',\n",
    "             'Junior Business Analyst', 'Junior Business Development Associate', 'Junior Business Operations Analyst', 'Junior Copywriter', 'Junior Customer Support Specialist', 'Junior Data Analyst', 'Junior Data Scientist', 'Junior Designer',\n",
    "             'Junior Developer', 'Junior Financial Advisor', 'Junior Financial Analyst', 'Junior HR Coordinator', 'Junior HR Generalist', 'Junior Marketing Analyst', 'Junior Marketing Coordinator', 'Junior Marketing Manager', 'Junior Marketing Specialist',\n",
    "               'Junior Operations Analyst', 'Junior Operations Coordinator', 'Junior Operations Manager', 'Junior Product Manager',\n",
    "             'Junior Project Manager', 'Junior Recruiter', 'Junior Research Scientist', 'Junior Sales Associate', 'Junior Sales Representative', 'Junior Social Media Manager',\n",
    "             'Junior Social Media Specialist', 'Junior Software Developer', 'Junior Software Engineer', 'Junior UX Designer', 'Junior Web Designer', 'Junior Web Developer',\n",
    "             'Juniour HR Coordinator', 'Juniour HR Generalist', 'Marketing Analyst', 'Marketing Coordinator', 'Marketing Director', 'Marketing Manager', 'Marketing Specialist', 'Network Engineer',\n",
    "             'Office Manager', 'Operations Analyst', 'Operations Director', 'Operations Manager', 'Principal Engineer', 'Principal Scientist', 'Product Designer',\n",
    "             'Product Manager', 'Product Marketing Manager', 'Project Engineer', 'Project Manager', 'Public Relations Manager', 'Receptionist', 'Recruiter',\n",
    "             'Research Director', 'Research Scientist', 'Sales Associate', 'Sales Director', 'Sales Executive', 'Sales Manager', 'Sales Operations Manager',\n",
    "             'Sales Representative', 'Senior Account Executive', 'Senior Account Manager', 'Senior Accountant', 'Senior Business Analyst', 'Senior Business Development Manager', 'Senior Consultant',\n",
    "             'Senior Data Analyst', 'Senior Data Engineer', 'Senior Data Scientist', 'Senior Engineer', 'Senior Financial Advisor', 'Senior Financial Analyst', 'Senior Financial Manager',\n",
    "             'Senior Graphic Designer', 'Senior HR Generalist', 'Senior HR Manager', 'Senior HR Specialist', 'Senior Human Resources Coordinator', 'Senior Human Resources Manager', 'Senior Human Resources Specialist',\n",
    "             'Senior IT Consultant', 'Senior IT Project Manager', 'Senior IT Support Specialist', 'Senior Manager', 'Senior Marketing Analyst', 'Senior Marketing Coordinator',\n",
    "             'Senior Marketing Director', 'Senior Marketing Manager', 'Senior Marketing Specialist', 'Senior Operations Analyst', 'Senior Operations Coordinator', 'Senior Operations Manager', 'Senior Product Designer',\n",
    "             'Senior Product Development Manager', 'Senior Product Manager', 'Senior Product Marketing Manager', 'Senior Project Coordinator', 'Senior Project Engineer', 'Senior Project Manager', 'Senior Quality Assurance Analyst', \n",
    "               'Senior Research Scientist', 'Senior Researcher', 'Senior Sales Manager', 'Senior Sales Representative', 'Senior Scientist', 'Senior Software Architect', 'Senior Software Developer',\n",
    "             'Senior Software Engineer', 'Senior Training Specialist', 'Senior UX Designer', 'Social M', 'Social Media Man', 'Social Media Manager', 'Social Media Specialist',\n",
    "             'Software Developer', 'Software Engineer', 'Software Engineer Manager', 'Software Manager', 'Software Project Manager', 'Strategy Consultant', 'Supply Chain Analyst',\n",
    "             'Supply Chain Manager', 'Technical Recruiter', 'Technical Support Specialist', 'Technical Writer', 'Training Specialist', 'UX Designer', 'UX Researcher', 'VP of Finance', 'VP of Operations', 'Web Developer']\n",
    "    a  = \"Pick an option:\\n\"\n",
    "    for index, item in enumerate(options):\n",
    "        a += f'{index} -> {item}\\n'\n",
    "    a += 'Enter the number of your Job Role from above list: '\n",
    "    a = float(input(a))\n",
    "    user_data.append(a)\n",
    "\n",
    "    return user_data"
   ]
  },
  {
   "cell_type": "code",
   "execution_count": 54,
   "metadata": {},
   "outputs": [
    {
     "name": "stdout",
     "output_type": "stream",
     "text": [
      "Enter your Age:21\n",
      "Enter your Highest Qualification:\n",
      " 0 -> Bachelor's Degree | 1 -> High School | 2 -> Master's Degree | 3 -> PhD 2\n",
      "Years of Experience : 0\n",
      "Enter your Gender :\n",
      " 0 -> Female | 1 -> Male | 2 -> Other 0\n",
      "Pick an option:\n",
      "0 -> Account Manager\n",
      "1 -> Accountant\n",
      "2 -> Administrative Assistant\n",
      "3 -> Back end Developer\n",
      "4 -> Business Analyst\n",
      "5 -> Business Development Manager\n",
      "6 -> Business Intelligence Analyst\n",
      "7 -> CEO\n",
      "8 -> Chief Data Officer\n",
      "9 -> Chief Technology Officer\n",
      "10 -> Content Marketing Manager\n",
      "11 -> Copywriter\n",
      "12 -> Creative Director\n",
      "13 -> Customer Service Manager\n",
      "14 -> Customer Service Rep\n",
      "15 -> Customer Service Representative\n",
      "16 -> Customer Success Manager\n",
      "17 -> Customer Success Rep\n",
      "18 -> Data Analyst\n",
      "19 -> Data Entry Clerk\n",
      "20 -> Data Scientist\n",
      "21 -> Delivery Driver\n",
      "22 -> Developer\n",
      "23 -> Digital Content Producer\n",
      "24 -> Digital Marketing Manager\n",
      "25 -> Digital Marketing Specialist\n",
      "26 -> Director\n",
      "27 -> Director of Business Development\n",
      "28 -> Director of Data Science\n",
      "29 -> Director of Engineering\n",
      "30 -> Director of Finance\n",
      "31 -> Director of HR\n",
      "32 -> Director of Human Capital\n",
      "33 -> Director of Human Resources\n",
      "34 -> Director of Marketing\n",
      "35 -> Director of Operations\n",
      "36 -> Director of Product Management\n",
      "37 -> Director of Sales\n",
      "38 -> Director of Sales and Marketing\n",
      "39 -> Event Coordinator\n",
      "40 -> Financial Advisor\n",
      "41 -> Financial Analyst\n",
      "42 -> Financial Manager\n",
      "43 -> Front End Developer\n",
      "44 -> Front end Developer\n",
      "45 -> Full Stack Engineer\n",
      "46 -> Graphic Designer\n",
      "47 -> HR Generalist\n",
      "48 -> HR Manager\n",
      "49 -> Help Desk Analyst\n",
      "50 -> Human Resources Coordinator\n",
      "51 -> Human Resources Director\n",
      "52 -> Human Resources Manager\n",
      "53 -> IT Manager\n",
      "54 -> IT Support\n",
      "55 -> IT Support Specialist\n",
      "56 -> Junior Account Manager\n",
      "57 -> Junior Accountant\n",
      "58 -> Junior Advertising Coordinator\n",
      "59 -> Junior Business Analyst\n",
      "60 -> Junior Business Development Associate\n",
      "61 -> Junior Business Operations Analyst\n",
      "62 -> Junior Copywriter\n",
      "63 -> Junior Customer Support Specialist\n",
      "64 -> Junior Data Analyst\n",
      "65 -> Junior Data Scientist\n",
      "66 -> Junior Designer\n",
      "67 -> Junior Developer\n",
      "68 -> Junior Financial Advisor\n",
      "69 -> Junior Financial Analyst\n",
      "70 -> Junior HR Coordinator\n",
      "71 -> Junior HR Generalist\n",
      "72 -> Junior Marketing Analyst\n",
      "73 -> Junior Marketing Coordinator\n",
      "74 -> Junior Marketing Manager\n",
      "75 -> Junior Marketing Specialist\n",
      "76 -> Junior Operations Analyst\n",
      "77 -> Junior Operations Coordinator\n",
      "78 -> Junior Operations Manager\n",
      "79 -> Junior Product Manager\n",
      "80 -> Junior Project Manager\n",
      "81 -> Junior Recruiter\n",
      "82 -> Junior Research Scientist\n",
      "83 -> Junior Sales Associate\n",
      "84 -> Junior Sales Representative\n",
      "85 -> Junior Social Media Manager\n",
      "86 -> Junior Social Media Specialist\n",
      "87 -> Junior Software Developer\n",
      "88 -> Junior Software Engineer\n",
      "89 -> Junior UX Designer\n",
      "90 -> Junior Web Designer\n",
      "91 -> Junior Web Developer\n",
      "92 -> Juniour HR Coordinator\n",
      "93 -> Juniour HR Generalist\n",
      "94 -> Marketing Analyst\n",
      "95 -> Marketing Coordinator\n",
      "96 -> Marketing Director\n",
      "97 -> Marketing Manager\n",
      "98 -> Marketing Specialist\n",
      "99 -> Network Engineer\n",
      "100 -> Office Manager\n",
      "101 -> Operations Analyst\n",
      "102 -> Operations Director\n",
      "103 -> Operations Manager\n",
      "104 -> Principal Engineer\n",
      "105 -> Principal Scientist\n",
      "106 -> Product Designer\n",
      "107 -> Product Manager\n",
      "108 -> Product Marketing Manager\n",
      "109 -> Project Engineer\n",
      "110 -> Project Manager\n",
      "111 -> Public Relations Manager\n",
      "112 -> Receptionist\n",
      "113 -> Recruiter\n",
      "114 -> Research Director\n",
      "115 -> Research Scientist\n",
      "116 -> Sales Associate\n",
      "117 -> Sales Director\n",
      "118 -> Sales Executive\n",
      "119 -> Sales Manager\n",
      "120 -> Sales Operations Manager\n",
      "121 -> Sales Representative\n",
      "122 -> Senior Account Executive\n",
      "123 -> Senior Account Manager\n",
      "124 -> Senior Accountant\n",
      "125 -> Senior Business Analyst\n",
      "126 -> Senior Business Development Manager\n",
      "127 -> Senior Consultant\n",
      "128 -> Senior Data Analyst\n",
      "129 -> Senior Data Engineer\n",
      "130 -> Senior Data Scientist\n",
      "131 -> Senior Engineer\n",
      "132 -> Senior Financial Advisor\n",
      "133 -> Senior Financial Analyst\n",
      "134 -> Senior Financial Manager\n",
      "135 -> Senior Graphic Designer\n",
      "136 -> Senior HR Generalist\n",
      "137 -> Senior HR Manager\n",
      "138 -> Senior HR Specialist\n",
      "139 -> Senior Human Resources Coordinator\n",
      "140 -> Senior Human Resources Manager\n",
      "141 -> Senior Human Resources Specialist\n",
      "142 -> Senior IT Consultant\n",
      "143 -> Senior IT Project Manager\n",
      "144 -> Senior IT Support Specialist\n",
      "145 -> Senior Manager\n",
      "146 -> Senior Marketing Analyst\n",
      "147 -> Senior Marketing Coordinator\n",
      "148 -> Senior Marketing Director\n",
      "149 -> Senior Marketing Manager\n",
      "150 -> Senior Marketing Specialist\n",
      "151 -> Senior Operations Analyst\n",
      "152 -> Senior Operations Coordinator\n",
      "153 -> Senior Operations Manager\n",
      "154 -> Senior Product Designer\n",
      "155 -> Senior Product Development Manager\n",
      "156 -> Senior Product Manager\n",
      "157 -> Senior Product Marketing Manager\n",
      "158 -> Senior Project Coordinator\n",
      "159 -> Senior Project Engineer\n",
      "160 -> Senior Project Manager\n",
      "161 -> Senior Quality Assurance Analyst\n",
      "162 -> Senior Research Scientist\n",
      "163 -> Senior Researcher\n",
      "164 -> Senior Sales Manager\n",
      "165 -> Senior Sales Representative\n",
      "166 -> Senior Scientist\n",
      "167 -> Senior Software Architect\n",
      "168 -> Senior Software Developer\n",
      "169 -> Senior Software Engineer\n",
      "170 -> Senior Training Specialist\n",
      "171 -> Senior UX Designer\n",
      "172 -> Social M\n",
      "173 -> Social Media Man\n",
      "174 -> Social Media Manager\n",
      "175 -> Social Media Specialist\n",
      "176 -> Software Developer\n",
      "177 -> Software Engineer\n",
      "178 -> Software Engineer Manager\n",
      "179 -> Software Manager\n",
      "180 -> Software Project Manager\n",
      "181 -> Strategy Consultant\n",
      "182 -> Supply Chain Analyst\n",
      "183 -> Supply Chain Manager\n",
      "184 -> Technical Recruiter\n",
      "185 -> Technical Support Specialist\n",
      "186 -> Technical Writer\n",
      "187 -> Training Specialist\n",
      "188 -> UX Designer\n",
      "189 -> UX Researcher\n",
      "190 -> VP of Finance\n",
      "191 -> VP of Operations\n",
      "192 -> Web Developer\n",
      "Enter the number of your Job Role from above list: 20\n",
      "Yours predicted salary is [172224.59333333]\n"
     ]
    },
    {
     "name": "stderr",
     "output_type": "stream",
     "text": [
      "E:\\Anaconda\\lib\\site-packages\\sklearn\\base.py:451: UserWarning: X does not have valid feature names, but RandomForestRegressor was fitted with feature names\n",
      "  \"X does not have valid feature names, but\"\n"
     ]
    }
   ],
   "source": [
    "user_info = ask_user()\n",
    "user_info\n",
    "\n",
    "pred_sal=model_RF.predict(np.array(user_info).reshape(1,5))\n",
    "print('Yours predicted salary is',pred_sal)"
   ]
  },
  {
   "cell_type": "code",
   "execution_count": null,
   "metadata": {},
   "outputs": [],
   "source": []
  },
  {
   "cell_type": "code",
   "execution_count": null,
   "metadata": {},
   "outputs": [],
   "source": []
  }
 ],
 "metadata": {
  "kernelspec": {
   "display_name": "Python 3",
   "language": "python",
   "name": "python3"
  },
  "language_info": {
   "codemirror_mode": {
    "name": "ipython",
    "version": 3
   },
   "file_extension": ".py",
   "mimetype": "text/x-python",
   "name": "python",
   "nbconvert_exporter": "python",
   "pygments_lexer": "ipython3",
   "version": "3.7.6"
  }
 },
 "nbformat": 4,
 "nbformat_minor": 4
}
